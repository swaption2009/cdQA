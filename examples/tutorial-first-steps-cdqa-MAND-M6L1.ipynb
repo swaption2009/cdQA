{
 "cells": [
  {
   "cell_type": "markdown",
   "metadata": {
    "colab_type": "text",
    "id": "a8xO3SKOmBgS"
   },
   "source": [
    "# Notebook [1]: First steps with cdQA"
   ]
  },
  {
   "cell_type": "markdown",
   "metadata": {
    "colab_type": "text",
    "id": "v874L1S8mBgV"
   },
   "source": [
    "This notebook shows how to use the `cdQA` pipeline to perform question answering on a custom dataset."
   ]
  },
  {
   "cell_type": "markdown",
   "metadata": {
    "colab_type": "text",
    "id": "93FkcDXTmBgW"
   },
   "source": [
    "***Note:*** *If you are using colab, you will need to install `cdQA` by executing `!pip install cdqa` in a cell.*"
   ]
  },
  {
   "cell_type": "code",
   "execution_count": 2,
   "metadata": {
    "ExecuteTime": {
     "end_time": "2019-07-20T13:32:09.138284Z",
     "start_time": "2019-07-20T13:32:01.868622Z"
    },
    "colab": {
     "base_uri": "https://localhost:8080/",
     "height": 117
    },
    "colab_type": "code",
    "id": "HY_Lt_u7mBgX",
    "outputId": "0d337e2d-595b-4831-bdfa-ee3879982675"
   },
   "outputs": [
    {
     "name": "stderr",
     "output_type": "stream",
     "text": [
      "/home/ron/anaconda3/lib/python3.7/site-packages/tqdm/autonotebook/__init__.py:18: TqdmExperimentalWarning: Using `tqdm.autonotebook.tqdm` in notebook mode. Use `tqdm.tqdm` instead to force console mode (e.g. in jupyter console)\n",
      "  \" (e.g. in jupyter console)\", TqdmExperimentalWarning)\n"
     ]
    }
   ],
   "source": [
    "import os\n",
    "import pandas as pd\n",
    "from ast import literal_eval\n",
    "\n",
    "from cdqa.utils.filters import filter_paragraphs\n",
    "from cdqa.pipeline import QAPipeline"
   ]
  },
  {
   "cell_type": "markdown",
   "metadata": {
    "colab_type": "text",
    "id": "uZxVq9ZSmBgb"
   },
   "source": [
    "### Download pre-trained reader model and example dataset"
   ]
  },
  {
   "cell_type": "code",
   "execution_count": 3,
   "metadata": {
    "ExecuteTime": {
     "end_time": "2019-07-20T13:33:36.002880Z",
     "start_time": "2019-07-20T13:32:10.618797Z"
    },
    "colab": {
     "base_uri": "https://localhost:8080/",
     "height": 85
    },
    "colab_type": "code",
    "id": "PfP-VDQlmBgc",
    "outputId": "c87c6935-0b2a-4be3-c5bc-9d0fa5cefd05"
   },
   "outputs": [
    {
     "name": "stdout",
     "output_type": "stream",
     "text": [
      "\n",
      "Downloading BNP data...\n",
      "\n",
      "Downloading trained model...\n"
     ]
    }
   ],
   "source": [
    "from cdqa.utils.download import download_model, download_bnpp_data\n",
    "\n",
    "download_bnpp_data(dir='./data/bnpp_newsroom_v1.1/')\n",
    "download_model(model='bert-squad_1.1', dir='./models')"
   ]
  },
  {
   "cell_type": "markdown",
   "metadata": {
    "colab_type": "text",
    "id": "HPx_reWKmBge"
   },
   "source": [
    "### Visualize the dataset"
   ]
  },
  {
   "cell_type": "code",
   "execution_count": 4,
   "metadata": {
    "ExecuteTime": {
     "end_time": "2019-07-20T13:35:00.377971Z",
     "start_time": "2019-07-20T13:34:59.764491Z"
    },
    "colab": {
     "base_uri": "https://localhost:8080/",
     "height": 289
    },
    "colab_type": "code",
    "id": "h5HtFQijmBgf",
    "outputId": "0939cb6b-f06f-461e-d4aa-dbb656479283"
   },
   "outputs": [
    {
     "data": {
      "text/html": [
       "<div>\n",
       "<style scoped>\n",
       "    .dataframe tbody tr th:only-of-type {\n",
       "        vertical-align: middle;\n",
       "    }\n",
       "\n",
       "    .dataframe tbody tr th {\n",
       "        vertical-align: top;\n",
       "    }\n",
       "\n",
       "    .dataframe thead th {\n",
       "        text-align: right;\n",
       "    }\n",
       "</style>\n",
       "<table border=\"1\" class=\"dataframe\">\n",
       "  <thead>\n",
       "    <tr style=\"text-align: right;\">\n",
       "      <th></th>\n",
       "      <th>date</th>\n",
       "      <th>title</th>\n",
       "      <th>category</th>\n",
       "      <th>link</th>\n",
       "      <th>abstract</th>\n",
       "      <th>paragraphs</th>\n",
       "    </tr>\n",
       "  </thead>\n",
       "  <tbody>\n",
       "    <tr>\n",
       "      <th>0</th>\n",
       "      <td>13.05.2019</td>\n",
       "      <td>The banking jobs : Assistant Vice President – ...</td>\n",
       "      <td>Careers</td>\n",
       "      <td>https://group.bnpparibas/en/news/banking-jobs-...</td>\n",
       "      <td>Within the Group’s Corporate and Institutional...</td>\n",
       "      <td>[I manage a team in charge of designing and im...</td>\n",
       "    </tr>\n",
       "    <tr>\n",
       "      <th>1</th>\n",
       "      <td>13.05.2019</td>\n",
       "      <td>BNP Paribas at #VivaTech : discover the progra...</td>\n",
       "      <td>Innovation</td>\n",
       "      <td>https://group.bnpparibas/en/news/bnp-paribas-v...</td>\n",
       "      <td>From Thursday 16 to Saturday 18 May 2019, join...</td>\n",
       "      <td>[With François Hollande, Chairman of French fo...</td>\n",
       "    </tr>\n",
       "    <tr>\n",
       "      <th>2</th>\n",
       "      <td>13.05.2019</td>\n",
       "      <td>\"The bank with an IT budget of more than EUR6 ...</td>\n",
       "      <td>Group</td>\n",
       "      <td>https://group.bnpparibas/en/news/the-bank-budg...</td>\n",
       "      <td>Interview with Jean-Laurent Bonnafé, Director ...</td>\n",
       "      <td>[We did the groundwork between 2012 and 2016, ...</td>\n",
       "    </tr>\n",
       "    <tr>\n",
       "      <th>3</th>\n",
       "      <td>10.05.2019</td>\n",
       "      <td>BNP Paribas at #VivaTech : discover the progra...</td>\n",
       "      <td>Innovation</td>\n",
       "      <td>https://group.bnpparibas/en/news/bnp-paribas-v...</td>\n",
       "      <td>From Thursday 16 to Saturday 18 May 2019, join...</td>\n",
       "      <td>[As part of the ‘United Tech of Europe’ theme,...</td>\n",
       "    </tr>\n",
       "    <tr>\n",
       "      <th>4</th>\n",
       "      <td>10.05.2019</td>\n",
       "      <td>When Artificial Intelligence participates in r...</td>\n",
       "      <td>Careers</td>\n",
       "      <td>https://group.bnpparibas/en/news/artificial-in...</td>\n",
       "      <td>As the competition to attract talent intensifi...</td>\n",
       "      <td>[Online recruitment is already the norm. Accor...</td>\n",
       "    </tr>\n",
       "  </tbody>\n",
       "</table>\n",
       "</div>"
      ],
      "text/plain": [
       "         date  ...                                         paragraphs\n",
       "0  13.05.2019  ...  [I manage a team in charge of designing and im...\n",
       "1  13.05.2019  ...  [With François Hollande, Chairman of French fo...\n",
       "2  13.05.2019  ...  [We did the groundwork between 2012 and 2016, ...\n",
       "3  10.05.2019  ...  [As part of the ‘United Tech of Europe’ theme,...\n",
       "4  10.05.2019  ...  [Online recruitment is already the norm. Accor...\n",
       "\n",
       "[5 rows x 6 columns]"
      ]
     },
     "execution_count": 4,
     "metadata": {
      "tags": []
     },
     "output_type": "execute_result"
    }
   ],
   "source": [
    "df = pd.read_csv('./data/bnpp_newsroom_v1.1/bnpp_newsroom-v1.1.csv', converters={'paragraphs': literal_eval})\n",
    "df = filter_paragraphs(df)\n",
    "df.head()"
   ]
  },
  {
   "cell_type": "code",
   "execution_count": 10,
   "metadata": {
    "colab": {
     "base_uri": "https://localhost:8080/",
     "height": 139
    },
    "colab_type": "code",
    "id": "O5ZeuM9jsz4p",
    "outputId": "3fbacb26-6d8d-4020-8800-1dfb4a0a1a39"
   },
   "outputs": [
    {
     "data": {
      "text/plain": [
       "['I manage a team in charge of designing and implementing the Enterprise Data Management Framework, which is a set of procedures governing data management. To carry out our mission, we analyze the pertinence of the data in our possession—whether they are financial, transactional, referential, etc.—starting from their origination and capture in our systems until the moment they are consumed for internal and regulatory reports. Our goal is to understand and document the processes that mitigate data risks along its journey, identify potential flaws, to ultimately provide assurance over the data at critical points. It’s a specialization that has grown significantly since the 2008 financial crisis.',\n",
       " 'With the frameworks that have been and are being implemented, our ability to act on data-related issues is challenged by the sheer volume of data, metadata (i.e. data on data), dashboards and other data visualization tools. It can be difficult to not get overwhelmed when trouble shooting an issue, keeping a clear head, and being able to act rapidly. ‘’Data fatigue’’ is now being used to describe this across various industries and roles.',\n",
       " 'I got it almost by accident when I applied for another position within the bank! Back in Montreal, my hometown, after a career with an audit firm, I wanted to work in a global institution to satisfy my craving for new challenges and put my analytical skills to use. I applied for a position in finance production support, but the recruiter I was working with scheduled the interview for this role in Enterprise Data Management. The first 10 minutes of the discussion with my current manager were quite confusing, but since my background seemed to correspond to the job description, we had a great conversation. I wasn’t very familiar with financial institutions or data management, but coming out of the interview I knew this would be an interesting field. My manager also mentioned if I joined, I could participate in a BNPP sponsored tennis tournament, which was the last nudge I needed to sign on!',\n",
       " 'The people. Hands down, the team I work with every day, as well as all the other people I’m in touch with regularly, whether in the United States or in Paris. The department is somewhat new, and I’m grateful for the way we cheer each other on through the growing pains.',\n",
       " 'Every year, in connection with the We Are Tennis Cup organized by the bank, I take part in the regional tournament held in Canada. It’s an exciting event as the regional winners get to participate in the global tournament, but it’s above all a chance to share a fun moment between employees—on the court instead of in the office.',\n",
       " 'I would compare it to the telephone game, where one person whispers information into the next person’s ear—usually with some information lost along the way! My role is to ensure the integrity and quality of this information, which in my world, passes through many different hands and travels through several countries.']"
      ]
     },
     "execution_count": 10,
     "metadata": {
      "tags": []
     },
     "output_type": "execute_result"
    }
   ],
   "source": [
    "df.loc[0].paragraphs"
   ]
  },
  {
   "cell_type": "code",
   "execution_count": 9,
   "metadata": {
    "colab": {
     "base_uri": "https://localhost:8080/",
     "height": 54
    },
    "colab_type": "code",
    "id": "qHZTSHHRsjeg",
    "outputId": "b9a2fc0d-ab99-441b-8a9f-a9b9def43e8c"
   },
   "outputs": [
    {
     "data": {
      "text/plain": [
       "'I manage a team in charge of designing and implementing the Enterprise Data Management Framework, which is a set of procedures governing data management. To carry out our mission, we analyze the pertinence of the data in our possession—whether they are financial, transactional, referential, etc.—starting from their origination and capture in our systems until the moment they are consumed for internal and regulatory reports. Our goal is to understand and document the processes that mitigate data risks along its journey, identify potential flaws, to ultimately provide assurance over the data at critical points. It’s a specialization that has grown significantly since the 2008 financial crisis.With the frameworks that have been and are being implemented, our ability to act on data-related issues is challenged by the sheer volume of data, metadata (i.e. data on data), dashboards and other data visualization tools. It can be difficult to not get overwhelmed when trouble shooting an issue, keeping a clear head, and being able to act rapidly. ‘’Data fatigue’’ is now being used to describe this across various industries and roles.I got it almost by accident when I applied for another position within the bank! Back in Montreal, my hometown, after a career with an audit firm, I wanted to work in a global institution to satisfy my craving for new challenges and put my analytical skills to use. I applied for a position in finance production support, but the recruiter I was working with scheduled the interview for this role in Enterprise Data Management. The first 10 minutes of the discussion with my current manager were quite confusing, but since my background seemed to correspond to the job description, we had a great conversation. I wasn’t very familiar with financial institutions or data management, but coming out of the interview I knew this would be an interesting field. My manager also mentioned if I joined, I could participate in a BNPP sponsored tennis tournament, which was the last nudge I needed to sign on!The people. Hands down, the team I work with every day, as well as all the other people I’m in touch with regularly, whether in the United States or in Paris. The department is somewhat new, and I’m grateful for the way we cheer each other on through the growing pains.Every year, in connection with the We Are Tennis Cup organized by the bank, I take part in the regional tournament held in Canada. It’s an exciting event as the regional winners get to participate in the global tournament, but it’s above all a chance to share a fun moment between employees—on the court instead of in the office.I would compare it to the telephone game, where one person whispers information into the next person’s ear—usually with some information lost along the way! My role is to ensure the integrity and quality of this information, which in my world, passes through many different hands and travels through several countries.'"
      ]
     },
     "execution_count": 9,
     "metadata": {
      "tags": []
     },
     "output_type": "execute_result"
    }
   ],
   "source": [
    "''.join(df.loc[0].paragraphs)"
   ]
  },
  {
   "cell_type": "markdown",
   "metadata": {
    "colab_type": "text",
    "id": "Dfe9D4GcmBgi"
   },
   "source": [
    "### Instantiate the cdQA pipeline from a pre-trained reader model"
   ]
  },
  {
   "cell_type": "code",
   "execution_count": 5,
   "metadata": {
    "ExecuteTime": {
     "end_time": "2019-07-20T13:35:07.072516Z",
     "start_time": "2019-07-20T13:35:02.764545Z"
    },
    "colab": {
     "base_uri": "https://localhost:8080/",
     "height": 323
    },
    "colab_type": "code",
    "id": "ohXSOwiemBgi",
    "outputId": "cc35fe37-14c6-4d4b-f008-e5eb7a0d7b18"
   },
   "outputs": [
    {
     "name": "stderr",
     "output_type": "stream",
     "text": [
      "100%|██████████| 231508/231508 [00:00<00:00, 901046.84B/s]\n"
     ]
    },
    {
     "data": {
      "text/plain": [
       "QAPipeline(reader=BertQA(adam_epsilon=1e-08, bert_model='bert-base-uncased',\n",
       "                         do_lower_case=True, fp16=False,\n",
       "                         gradient_accumulation_steps=1, learning_rate=5e-05,\n",
       "                         local_rank=-1, loss_scale=0, max_answer_length=30,\n",
       "                         n_best_size=20, no_cuda=False,\n",
       "                         null_score_diff_threshold=0.0, num_train_epochs=3.0,\n",
       "                         output_dir=None, predict_batch_size=8, seed=42,\n",
       "                         server_ip='', server_po...size=8,\n",
       "                         verbose_logging=False, version_2_with_negative=False,\n",
       "                         warmup_proportion=0.1, warmup_steps=0),\n",
       "           retrieve_by_doc=False,\n",
       "           retriever=BM25Retriever(b=0.75, floor=None, k1=2.0, lowercase=True,\n",
       "                                   max_df=0.85, min_df=2, ngram_range=(1, 2),\n",
       "                                   preprocessor=None, stop_words='english',\n",
       "                                   token_pattern='(?u)\\\\b\\\\w\\\\w+\\\\b',\n",
       "                                   tokenizer=None, top_n=20, verbose=False,\n",
       "                                   vocabulary=None))"
      ]
     },
     "execution_count": 5,
     "metadata": {
      "tags": []
     },
     "output_type": "execute_result"
    }
   ],
   "source": [
    "cdqa_pipeline = QAPipeline(reader='./models/bert_qa.joblib')\n",
    "cdqa_pipeline.fit_retriever(df=df)"
   ]
  },
  {
   "cell_type": "markdown",
   "metadata": {
    "colab_type": "text",
    "id": "36aw9kYEmBgk"
   },
   "source": [
    "### Execute a query"
   ]
  },
  {
   "cell_type": "code",
   "execution_count": 0,
   "metadata": {
    "ExecuteTime": {
     "end_time": "2019-07-20T13:35:37.973867Z",
     "start_time": "2019-07-20T13:35:22.104799Z"
    },
    "colab": {},
    "colab_type": "code",
    "id": "jcBCtCpYmBgl"
   },
   "outputs": [],
   "source": [
    "query = 'Since when does the Excellence Program of BNP Paribas exist?'\n",
    "prediction = cdqa_pipeline.predict(query)"
   ]
  },
  {
   "cell_type": "markdown",
   "metadata": {
    "colab_type": "text",
    "id": "Gy_6eNDymBgn"
   },
   "source": [
    "### Explore predictions"
   ]
  },
  {
   "cell_type": "code",
   "execution_count": 14,
   "metadata": {
    "ExecuteTime": {
     "end_time": "2019-06-25T14:21:26.561003Z",
     "start_time": "2019-06-25T14:21:26.549540Z"
    },
    "colab": {
     "base_uri": "https://localhost:8080/",
     "height": 105
    },
    "colab_type": "code",
    "id": "FdvFtKDqmBgo",
    "outputId": "6f43283d-10fa-40a8-df10-b11f8804be59"
   },
   "outputs": [
    {
     "name": "stdout",
     "output_type": "stream",
     "text": [
      "query: Since when does the Excellence Program of BNP Paribas exist?\n",
      "answer: January 2016\n",
      "title: BNP Paribas’ commitment to universities and schools\n",
      "paragraph: Since January 2016, BNP Paribas has offered an Excellence Program targeting new Master’s level graduates (BAC+5) who show high potential. The aid program lasts 18 months and comprises three assignments of six months each. It serves as a strong career accelerator that enables participants to access high-level management positions at a faster rate. The program allows participants to discover the BNP Paribas Group and its various entities in France and abroad, build an internal and external network by working on different assignments and receive personalized assistance from a mentor and coaching firm at every step along the way.\n"
     ]
    }
   ],
   "source": [
    "print('query: {}'.format(query))\n",
    "print('answer: {}'.format(prediction[0]))\n",
    "print('title: {}'.format(prediction[1]))\n",
    "print('paragraph: {}'.format(prediction[2]))"
   ]
  },
  {
   "cell_type": "code",
   "execution_count": 0,
   "metadata": {
    "colab": {},
    "colab_type": "code",
    "id": "bHP9QfYbs_j8"
   },
   "outputs": [],
   "source": [
    "query2 = \"Who's BNP Paribas' CEO?\"\n",
    "prediction2 = cdqa_pipeline.predict(query2)"
   ]
  },
  {
   "cell_type": "code",
   "execution_count": 16,
   "metadata": {
    "colab": {
     "base_uri": "https://localhost:8080/",
     "height": 105
    },
    "colab_type": "code",
    "id": "ARsfjoNktJQW",
    "outputId": "5ef147ef-d2c7-4119-e5b0-063dbd518666"
   },
   "outputs": [
    {
     "name": "stdout",
     "output_type": "stream",
     "text": [
      "query: Who's BNP Paribas' CEO?\n",
      "answer: Jean-Laurent Bonnafé\n",
      "title: BNP Paribas continues its commitment in favour of integrating refugees in Europe\n",
      "paragraph: Jean-Laurent Bonnafé, BNP Paribas CEO, declared that, “The refugee drama is a major human catastrophe that is mobilising many organisations and volunteers throughout Europe who are dealing with emergency conditions and providing refugees with the possibility of shelter, work, and a future. BNP Paribas is at their side, not only with financial assistance, but also with help finding employment and, for some, with recruitment. In today’s difficult context, we are committed to pursuing these efforts.”\n"
     ]
    }
   ],
   "source": [
    "print('query: {}'.format(query2))\n",
    "print('answer: {}'.format(prediction2[0]))\n",
    "print('title: {}'.format(prediction2[1]))\n",
    "print('paragraph: {}'.format(prediction2[2]))"
   ]
  },
  {
   "cell_type": "code",
   "execution_count": 0,
   "metadata": {
    "colab": {},
    "colab_type": "code",
    "id": "eGhKKM7BtS0K"
   },
   "outputs": [],
   "source": []
  }
 ],
 "metadata": {
  "accelerator": "GPU",
  "colab": {
   "name": "tutorial-first-steps-cdqa.ipynb",
   "provenance": []
  },
  "hide_input": false,
  "kernelspec": {
   "display_name": "Python 3",
   "language": "python",
   "name": "python3"
  },
  "language_info": {
   "codemirror_mode": {
    "name": "ipython",
    "version": 3
   },
   "file_extension": ".py",
   "mimetype": "text/x-python",
   "name": "python",
   "nbconvert_exporter": "python",
   "pygments_lexer": "ipython3",
   "version": "3.7.5"
  },
  "toc": {
   "base_numbering": 1,
   "nav_menu": {},
   "number_sections": true,
   "sideBar": true,
   "skip_h1_title": false,
   "title_cell": "Table of Contents",
   "title_sidebar": "Contents",
   "toc_cell": false,
   "toc_position": {},
   "toc_section_display": true,
   "toc_window_display": false
  },
  "varInspector": {
   "cols": {
    "lenName": 16,
    "lenType": 16,
    "lenVar": 40
   },
   "kernels_config": {
    "python": {
     "delete_cmd_postfix": "",
     "delete_cmd_prefix": "del ",
     "library": "var_list.py",
     "varRefreshCmd": "print(var_dic_list())"
    },
    "r": {
     "delete_cmd_postfix": ") ",
     "delete_cmd_prefix": "rm(",
     "library": "var_list.r",
     "varRefreshCmd": "cat(var_dic_list()) "
    }
   },
   "types_to_exclude": [
    "module",
    "function",
    "builtin_function_or_method",
    "instance",
    "_Feature"
   ],
   "window_display": false
  }
 },
 "nbformat": 4,
 "nbformat_minor": 1
}
