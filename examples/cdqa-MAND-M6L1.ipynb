{
 "cells": [
  {
   "cell_type": "markdown",
   "metadata": {
    "colab_type": "text",
    "id": "a8xO3SKOmBgS"
   },
   "source": [
    "# Notebook [1]: First steps with cdQA"
   ]
  },
  {
   "cell_type": "markdown",
   "metadata": {
    "colab_type": "text",
    "id": "v874L1S8mBgV"
   },
   "source": [
    "This notebook shows how to use the `cdQA` pipeline to perform question answering on a custom dataset."
   ]
  },
  {
   "cell_type": "markdown",
   "metadata": {
    "colab_type": "text",
    "id": "93FkcDXTmBgW"
   },
   "source": [
    "***Note:*** *If you are using colab, you will need to install `cdQA` by executing `!pip install cdqa` in a cell.*"
   ]
  },
  {
   "cell_type": "code",
   "execution_count": 16,
   "metadata": {
    "ExecuteTime": {
     "end_time": "2019-07-20T13:32:09.138284Z",
     "start_time": "2019-07-20T13:32:01.868622Z"
    },
    "colab": {
     "base_uri": "https://localhost:8080/",
     "height": 117
    },
    "colab_type": "code",
    "id": "HY_Lt_u7mBgX",
    "outputId": "0d337e2d-595b-4831-bdfa-ee3879982675"
   },
   "outputs": [],
   "source": [
    "import os\n",
    "import pandas as pd\n",
    "import numpy as np\n",
    "from nltk import tokenize\n",
    "from ast import literal_eval\n",
    "\n",
    "from cdqa.utils.filters import filter_paragraphs\n",
    "from cdqa.pipeline import QAPipeline"
   ]
  },
  {
   "cell_type": "markdown",
   "metadata": {
    "colab_type": "text",
    "id": "uZxVq9ZSmBgb"
   },
   "source": [
    "### Download pre-trained reader model and example dataset"
   ]
  },
  {
   "cell_type": "code",
   "execution_count": 2,
   "metadata": {
    "ExecuteTime": {
     "end_time": "2019-07-20T13:33:36.002880Z",
     "start_time": "2019-07-20T13:32:10.618797Z"
    },
    "colab": {
     "base_uri": "https://localhost:8080/",
     "height": 85
    },
    "colab_type": "code",
    "id": "PfP-VDQlmBgc",
    "outputId": "c87c6935-0b2a-4be3-c5bc-9d0fa5cefd05"
   },
   "outputs": [
    {
     "name": "stdout",
     "output_type": "stream",
     "text": [
      "\n",
      "Downloading trained model...\n"
     ]
    }
   ],
   "source": [
    "from cdqa.utils.download import download_model, download_bnpp_data\n",
    "\n",
    "download_model(model='bert-squad_1.1', dir='./models')"
   ]
  },
  {
   "cell_type": "markdown",
   "metadata": {
    "colab_type": "text",
    "id": "HPx_reWKmBge"
   },
   "source": [
    "### Visualize the dataset"
   ]
  },
  {
   "cell_type": "code",
   "execution_count": 8,
   "metadata": {
    "ExecuteTime": {
     "end_time": "2019-07-20T13:35:00.377971Z",
     "start_time": "2019-07-20T13:34:59.764491Z"
    },
    "colab": {
     "base_uri": "https://localhost:8080/",
     "height": 289
    },
    "colab_type": "code",
    "id": "h5HtFQijmBgf",
    "outputId": "0939cb6b-f06f-461e-d4aa-dbb656479283"
   },
   "outputs": [
    {
     "data": {
      "text/html": [
       "<div>\n",
       "<style scoped>\n",
       "    .dataframe tbody tr th:only-of-type {\n",
       "        vertical-align: middle;\n",
       "    }\n",
       "\n",
       "    .dataframe tbody tr th {\n",
       "        vertical-align: top;\n",
       "    }\n",
       "\n",
       "    .dataframe thead th {\n",
       "        text-align: right;\n",
       "    }\n",
       "</style>\n",
       "<table border=\"1\" class=\"dataframe\">\n",
       "  <thead>\n",
       "    <tr style=\"text-align: right;\">\n",
       "      <th></th>\n",
       "      <th>title</th>\n",
       "      <th>paragraphs</th>\n",
       "    </tr>\n",
       "  </thead>\n",
       "  <tbody>\n",
       "    <tr>\n",
       "      <th>0</th>\n",
       "      <td>Intro</td>\n",
       "      <td>Analytics is something every business requires...</td>\n",
       "    </tr>\n",
       "    <tr>\n",
       "      <th>1</th>\n",
       "      <td>Ecosystem</td>\n",
       "      <td>When we look at the marketing ecosystem, today...</td>\n",
       "    </tr>\n",
       "    <tr>\n",
       "      <th>2</th>\n",
       "      <td>Data Collection</td>\n",
       "      <td>Now, the ecosystem of data is no doubt impress...</td>\n",
       "    </tr>\n",
       "    <tr>\n",
       "      <th>3</th>\n",
       "      <td>Layering in Data</td>\n",
       "      <td>One of my first jobs out of high school was wo...</td>\n",
       "    </tr>\n",
       "    <tr>\n",
       "      <th>4</th>\n",
       "      <td>Analytics Process</td>\n",
       "      <td>In the world of business and in marketing, we ...</td>\n",
       "    </tr>\n",
       "  </tbody>\n",
       "</table>\n",
       "</div>"
      ],
      "text/plain": [
       "               title                                         paragraphs\n",
       "0              Intro  Analytics is something every business requires...\n",
       "1          Ecosystem  When we look at the marketing ecosystem, today...\n",
       "2    Data Collection  Now, the ecosystem of data is no doubt impress...\n",
       "3   Layering in Data  One of my first jobs out of high school was wo...\n",
       "4  Analytics Process  In the world of business and in marketing, we ..."
      ]
     },
     "execution_count": 8,
     "metadata": {},
     "output_type": "execute_result"
    }
   ],
   "source": [
    "df = pd.read_csv('m6l1_transcripts.csv')\n",
    "df.head()"
   ]
  },
  {
   "cell_type": "code",
   "execution_count": 18,
   "metadata": {},
   "outputs": [
    {
     "data": {
      "text/plain": [
       "['Analytics is something every business requires to stay competitive.',\n",
       " 'The more information you can use to inform your actions, the better.',\n",
       " 'Analytics and the techniques to properly use them support both strategic marketing decisions such as how much to spend or what a customer is worth, and more tactical campaign decisions, such as targeting the right customer with the right message at the right time.',\n",
       " \"No matter what industry you're business is in, it's important to understand the information surrounding your market, your competition, and the journey your customers take.\",\n",
       " \"Marketing analytics benefits your entire organization and it's one of the most fundamental skills any marketer or business owner must hone.\",\n",
       " \"Now, I'm sure you're aware there's a lot of data available to us.\",\n",
       " \"So it's important that we really measure what matters.\",\n",
       " 'We have to go beyond getting those metrics, we must sort out how to take action with that data.',\n",
       " \"We're going to spend a lot of time together talking about analytics, so let's talk about our goals for what we're studying.\",\n",
       " 'We want to learn how this data is collected and distributed.',\n",
       " \"Knowing where data comes from and how it's combined will help you understand how that data can be leveraged.\",\n",
       " \"You'll need to know where to look for this data, and then you'll be more sensitive around the concerns of how data is collected.\",\n",
       " \"We also want to understand the questions that we're trying to answer.\",\n",
       " 'Every business is trying to get the right message to the right users at the right time.',\n",
       " 'Your message and your timing and your users are well different than mine.',\n",
       " \"So you'll have to be specific with the questions that you want to answer for your business goals.\",\n",
       " \"We also want to understand the available metrics and how they're measured.\",\n",
       " \"In each channel, paid earned, and owned, you'll have different metrics, and you need to know which are the most important.\",\n",
       " \"You also want to understand how they're used so that way, you can figure out how to combine them to get better insights.\",\n",
       " \"We also want to figure out how to watch out for data reporting pitfalls so we don't fall victim to common mistakes.\",\n",
       " 'Next, we need to figure out what metrics are important for your business goals.',\n",
       " 'You have all of this data coming in, but what data is actually important and actionable for your business.',\n",
       " \"You need to be able to understand what data you're going to use to get you from point a to point b.\",\n",
       " 'From here, we want to understand how to apply these metrics to your business.',\n",
       " 'Everything that we do in marketing analytics is about being actionable.',\n",
       " 'We want to understand the information and create reports that can be used to drive real decisions.',\n",
       " \"It's also important that we have confidence in reporting so that we can take action on our analytics measurements and on the reporting we make.\",\n",
       " \"All kinds of decisions get made on this data and you're going to want the confidence that you've found the right information, use it in the right way, and made the right decisions.\",\n",
       " \"As you come to learn the foundations of marketing analytics, you'll be better equipped to gather, analyze, and report on the data you need to make better decisions.\"]"
      ]
     },
     "execution_count": 18,
     "metadata": {},
     "output_type": "execute_result"
    }
   ],
   "source": [
    "df.paragraphs = df.paragraphs.apply(lambda x: tokenize.sent_tokenize(x))\n",
    "df.loc[0].paragraphs"
   ]
  },
  {
   "cell_type": "code",
   "execution_count": 20,
   "metadata": {
    "colab": {
     "base_uri": "https://localhost:8080/",
     "height": 139
    },
    "colab_type": "code",
    "id": "O5ZeuM9jsz4p",
    "outputId": "3fbacb26-6d8d-4020-8800-1dfb4a0a1a39"
   },
   "outputs": [
    {
     "data": {
      "text/plain": [
       "\"Analytics is something every business requires to stay competitive.The more information you can use to inform your actions, the better.Analytics and the techniques to properly use them support both strategic marketing decisions such as how much to spend or what a customer is worth, and more tactical campaign decisions, such as targeting the right customer with the right message at the right time.No matter what industry you're business is in, it's important to understand the information surrounding your market, your competition, and the journey your customers take.Marketing analytics benefits your entire organization and it's one of the most fundamental skills any marketer or business owner must hone.Now, I'm sure you're aware there's a lot of data available to us.So it's important that we really measure what matters.We have to go beyond getting those metrics, we must sort out how to take action with that data.We're going to spend a lot of time together talking about analytics, so let's talk about our goals for what we're studying.We want to learn how this data is collected and distributed.Knowing where data comes from and how it's combined will help you understand how that data can be leveraged.You'll need to know where to look for this data, and then you'll be more sensitive around the concerns of how data is collected.We also want to understand the questions that we're trying to answer.Every business is trying to get the right message to the right users at the right time.Your message and your timing and your users are well different than mine.So you'll have to be specific with the questions that you want to answer for your business goals.We also want to understand the available metrics and how they're measured.In each channel, paid earned, and owned, you'll have different metrics, and you need to know which are the most important.You also want to understand how they're used so that way, you can figure out how to combine them to get better insights.We also want to figure out how to watch out for data reporting pitfalls so we don't fall victim to common mistakes.Next, we need to figure out what metrics are important for your business goals.You have all of this data coming in, but what data is actually important and actionable for your business.You need to be able to understand what data you're going to use to get you from point a to point b.From here, we want to understand how to apply these metrics to your business.Everything that we do in marketing analytics is about being actionable.We want to understand the information and create reports that can be used to drive real decisions.It's also important that we have confidence in reporting so that we can take action on our analytics measurements and on the reporting we make.All kinds of decisions get made on this data and you're going to want the confidence that you've found the right information, use it in the right way, and made the right decisions.As you come to learn the foundations of marketing analytics, you'll be better equipped to gather, analyze, and report on the data you need to make better decisions.\""
      ]
     },
     "execution_count": 20,
     "metadata": {},
     "output_type": "execute_result"
    }
   ],
   "source": [
    "''.join(df.loc[0].paragraphs)"
   ]
  },
  {
   "cell_type": "markdown",
   "metadata": {
    "colab_type": "text",
    "id": "Dfe9D4GcmBgi"
   },
   "source": [
    "### Instantiate the cdQA pipeline from a pre-trained reader model"
   ]
  },
  {
   "cell_type": "code",
   "execution_count": 21,
   "metadata": {
    "ExecuteTime": {
     "end_time": "2019-07-20T13:35:07.072516Z",
     "start_time": "2019-07-20T13:35:02.764545Z"
    },
    "colab": {
     "base_uri": "https://localhost:8080/",
     "height": 323
    },
    "colab_type": "code",
    "id": "ohXSOwiemBgi",
    "outputId": "cc35fe37-14c6-4d4b-f008-e5eb7a0d7b18"
   },
   "outputs": [
    {
     "name": "stderr",
     "output_type": "stream",
     "text": [
      "100%|██████████| 231508/231508 [00:00<00:00, 978462.99B/s]\n"
     ]
    },
    {
     "data": {
      "text/plain": [
       "QAPipeline(reader=BertQA(adam_epsilon=1e-08, bert_model='bert-base-uncased',\n",
       "                         do_lower_case=True, fp16=False,\n",
       "                         gradient_accumulation_steps=1, learning_rate=5e-05,\n",
       "                         local_rank=-1, loss_scale=0, max_answer_length=30,\n",
       "                         n_best_size=20, no_cuda=False,\n",
       "                         null_score_diff_threshold=0.0, num_train_epochs=3.0,\n",
       "                         output_dir=None, predict_batch_size=8, seed=42,\n",
       "                         server_ip='', server_po...size=8,\n",
       "                         verbose_logging=False, version_2_with_negative=False,\n",
       "                         warmup_proportion=0.1, warmup_steps=0),\n",
       "           retrieve_by_doc=False,\n",
       "           retriever=BM25Retriever(b=0.75, floor=None, k1=2.0, lowercase=True,\n",
       "                                   max_df=0.85, min_df=2, ngram_range=(1, 2),\n",
       "                                   preprocessor=None, stop_words='english',\n",
       "                                   token_pattern='(?u)\\\\b\\\\w\\\\w+\\\\b',\n",
       "                                   tokenizer=None, top_n=20, verbose=False,\n",
       "                                   vocabulary=None))"
      ]
     },
     "execution_count": 21,
     "metadata": {},
     "output_type": "execute_result"
    }
   ],
   "source": [
    "cdqa_pipeline = QAPipeline(reader='./models/bert_qa.joblib')\n",
    "cdqa_pipeline.fit_retriever(df=df)"
   ]
  },
  {
   "cell_type": "markdown",
   "metadata": {
    "colab_type": "text",
    "id": "36aw9kYEmBgk"
   },
   "source": [
    "### Execute a query"
   ]
  },
  {
   "cell_type": "code",
   "execution_count": 24,
   "metadata": {
    "ExecuteTime": {
     "end_time": "2019-07-20T13:35:37.973867Z",
     "start_time": "2019-07-20T13:35:22.104799Z"
    },
    "colab": {},
    "colab_type": "code",
    "id": "jcBCtCpYmBgl"
   },
   "outputs": [],
   "source": [
    "query = 'Who fall victim to common mistakes?'\n",
    "prediction = cdqa_pipeline.predict(query)"
   ]
  },
  {
   "cell_type": "markdown",
   "metadata": {
    "colab_type": "text",
    "id": "Gy_6eNDymBgn"
   },
   "source": [
    "### Explore predictions"
   ]
  },
  {
   "cell_type": "code",
   "execution_count": 25,
   "metadata": {
    "ExecuteTime": {
     "end_time": "2019-06-25T14:21:26.561003Z",
     "start_time": "2019-06-25T14:21:26.549540Z"
    },
    "colab": {
     "base_uri": "https://localhost:8080/",
     "height": 105
    },
    "colab_type": "code",
    "id": "FdvFtKDqmBgo",
    "outputId": "6f43283d-10fa-40a8-df10-b11f8804be59"
   },
   "outputs": [
    {
     "name": "stdout",
     "output_type": "stream",
     "text": [
      "query: Who fall victim to common mistakes?\n",
      "answer: we don't fall victim to common mistakes.\n",
      "title: Intro\n",
      "paragraph: We also want to figure out how to watch out for data reporting pitfalls so we don't fall victim to common mistakes.\n"
     ]
    }
   ],
   "source": [
    "print('query: {}'.format(query))\n",
    "print('answer: {}'.format(prediction[0]))\n",
    "print('title: {}'.format(prediction[1]))\n",
    "print('paragraph: {}'.format(prediction[2]))"
   ]
  },
  {
   "cell_type": "code",
   "execution_count": 26,
   "metadata": {
    "colab": {},
    "colab_type": "code",
    "id": "bHP9QfYbs_j8"
   },
   "outputs": [],
   "source": [
    "query2 = \"What is analytics?\"\n",
    "prediction2 = cdqa_pipeline.predict(query2)"
   ]
  },
  {
   "cell_type": "code",
   "execution_count": 27,
   "metadata": {
    "colab": {
     "base_uri": "https://localhost:8080/",
     "height": 105
    },
    "colab_type": "code",
    "id": "ARsfjoNktJQW",
    "outputId": "5ef147ef-d2c7-4119-e5b0-063dbd518666"
   },
   "outputs": [
    {
     "name": "stdout",
     "output_type": "stream",
     "text": [
      "query: What is analytics?\n",
      "answer: being actionable\n",
      "title: Intro\n",
      "paragraph: Everything that we do in marketing analytics is about being actionable.\n"
     ]
    }
   ],
   "source": [
    "print('query: {}'.format(query2))\n",
    "print('answer: {}'.format(prediction2[0]))\n",
    "print('title: {}'.format(prediction2[1]))\n",
    "print('paragraph: {}'.format(prediction2[2]))"
   ]
  },
  {
   "cell_type": "code",
   "execution_count": 0,
   "metadata": {
    "colab": {},
    "colab_type": "code",
    "id": "eGhKKM7BtS0K"
   },
   "outputs": [],
   "source": []
  }
 ],
 "metadata": {
  "accelerator": "GPU",
  "colab": {
   "name": "tutorial-first-steps-cdqa.ipynb",
   "provenance": []
  },
  "hide_input": false,
  "kernelspec": {
   "display_name": "Python 3",
   "language": "python",
   "name": "python3"
  },
  "language_info": {
   "codemirror_mode": {
    "name": "ipython",
    "version": 3
   },
   "file_extension": ".py",
   "mimetype": "text/x-python",
   "name": "python",
   "nbconvert_exporter": "python",
   "pygments_lexer": "ipython3",
   "version": "3.7.5"
  },
  "toc": {
   "base_numbering": 1,
   "nav_menu": {},
   "number_sections": true,
   "sideBar": true,
   "skip_h1_title": false,
   "title_cell": "Table of Contents",
   "title_sidebar": "Contents",
   "toc_cell": false,
   "toc_position": {},
   "toc_section_display": true,
   "toc_window_display": false
  },
  "varInspector": {
   "cols": {
    "lenName": 16,
    "lenType": 16,
    "lenVar": 40
   },
   "kernels_config": {
    "python": {
     "delete_cmd_postfix": "",
     "delete_cmd_prefix": "del ",
     "library": "var_list.py",
     "varRefreshCmd": "print(var_dic_list())"
    },
    "r": {
     "delete_cmd_postfix": ") ",
     "delete_cmd_prefix": "rm(",
     "library": "var_list.r",
     "varRefreshCmd": "cat(var_dic_list()) "
    }
   },
   "types_to_exclude": [
    "module",
    "function",
    "builtin_function_or_method",
    "instance",
    "_Feature"
   ],
   "window_display": false
  }
 },
 "nbformat": 4,
 "nbformat_minor": 1
}
